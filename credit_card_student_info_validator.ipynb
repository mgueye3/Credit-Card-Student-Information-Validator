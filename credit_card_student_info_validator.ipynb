{
 "cells": [
  {
   "cell_type": "markdown",
   "id": "c4470994-b846-488c-8fcf-ce1dac47570a",
   "metadata": {},
   "source": [
    "\n",
    "***Description:\n",
    "\n",
    "This script performs three main functionalities:\n",
    "1. **Credit Card Type Identifier**: Determines the type of a given credit card number.\n",
    "2. **Student Classification**: Identifies a student's academic year and major based on an encoded input.\n",
    "3. **ISBN-10 Checksum Generator**: Validates and generates the ISBN-10 checksum digit.\n",
    "\n"
   ]
  },
  {
   "cell_type": "code",
   "execution_count": 2,
   "id": "aed945f1-5e3b-4a68-995a-844d67ed3152",
   "metadata": {},
   "outputs": [],
   "source": [
    "def identify_credit_card():\n",
    "    \"\"\"Identifies the type of credit card based on the number provided by the user.\"\"\"\n",
    "    card_number = input(\"Enter the card number: \")\n",
    "    \n",
    "    if not card_number.isdigit():\n",
    "        print(\"Invalid input. Please enter numeric values only.\")\n",
    "        return\n",
    "    \n",
    "    print(f\"There are {len(card_number)} digits in your credit card number.\")\n",
    "    \n",
    "    if card_number.startswith(\"4\"):\n",
    "        print(\"It is a Visa card.\")\n",
    "    elif card_number.startswith((\"51\", \"52\", \"53\", \"54\", \"55\")):\n",
    "        print(\"It is a MasterCard.\")\n",
    "    elif card_number.startswith((\"36\", \"38\")):\n",
    "        print(\"It is a Diners Club card.\")\n",
    "    elif card_number.startswith((\"6011\", \"65\")):\n",
    "        print(\"It is a Discover card.\")\n",
    "    elif card_number.startswith((\"34\", \"37\")):\n",
    "        print(\"It is an American Express card.\")\n",
    "    else:\n",
    "        print(\"Sorry! We cannot identify this credit card number.\")\n"
   ]
  },
  {
   "cell_type": "code",
   "execution_count": 3,
   "id": "6d6894ab-c09d-4d49-b5d0-a8f835058c9f",
   "metadata": {},
   "outputs": [],
   "source": [
    "def classify_student():\n",
    "    \"\"\"Determines the academic year and major based on an encoded input.\"\"\"\n",
    "    student_code = input(\"Enter the student classification code (e.g., 1C, 2M): \")\n",
    "    \n",
    "    if len(student_code) != 2:\n",
    "        print(\"Invalid input. Please enter a valid code.\")\n",
    "        return\n",
    "    \n",
    "    year_mapping = {\"1\": \"Freshman\", \"2\": \"Sophomore\", \"3\": \"Junior\", \"4\": \"Senior\"}\n",
    "    major_mapping = {\"C\": \"Computer Science\", \"I\": \"Information Technology\", \"M\": \"Mathematics\"}\n",
    "    \n",
    "    year = year_mapping.get(student_code[0], \"Unknown Year\")\n",
    "    major = major_mapping.get(student_code[1], \"Unknown Major\")\n",
    "    \n",
    "    print(f\"Academic Year: {year}\")\n",
    "    print(f\"Major: {major}\")\n"
   ]
  },
  {
   "cell_type": "code",
   "execution_count": 4,
   "id": "5cfa9d78-2130-4cc2-83be-6b11af18af88",
   "metadata": {},
   "outputs": [],
   "source": [
    "def generate_isbn10_checksum():\n",
    "    \"\"\"Validates and generates the ISBN-10 checksum digit for a 9-digit input.\"\"\"\n",
    "    isbn_base = input(\"Enter the first 9 digits of an ISBN-10: \")\n",
    "    \n",
    "    if not isbn_base.isdigit() or len(isbn_base) != 9:\n",
    "        print(\"Incorrect input. It must have exactly 9 digits.\")\n",
    "        return\n",
    "    \n",
    "    checksum = sum((i + 1) * int(digit) for i, digit in enumerate(isbn_base)) % 11\n",
    "    isbn_complete = isbn_base + (\"X\" if checksum == 10 else str(checksum))\n",
    "    \n",
    "    print(f\"Full ISBN-10: {isbn_complete}\")"
   ]
  },
  {
   "cell_type": "code",
   "execution_count": 5,
   "id": "e6d770d8-0a0b-4f5f-81da-46d552d35091",
   "metadata": {},
   "outputs": [
    {
     "name": "stdout",
     "output_type": "stream",
     "text": [
      "Select an option:\n",
      "1: Identify Credit Card Type\n",
      "2: Classify Student Year and Major\n",
      "3: Generate ISBN-10 Checksum\n"
     ]
    },
    {
     "name": "stdin",
     "output_type": "stream",
     "text": [
      "Enter your choice (1/2/3):  6\n"
     ]
    },
    {
     "name": "stdout",
     "output_type": "stream",
     "text": [
      "Invalid choice. Please enter 1, 2, or 3.\n"
     ]
    }
   ],
   "source": [
    "if __name__ == \"__main__\":\n",
    "    print(\"Select an option:\")\n",
    "    print(\"1: Identify Credit Card Type\")\n",
    "    print(\"2: Classify Student Year and Major\")\n",
    "    print(\"3: Generate ISBN-10 Checksum\")\n",
    "    \n",
    "    choice = input(\"Enter your choice (1/2/3): \")\n",
    "    \n",
    "    if choice == \"1\":\n",
    "        identify_credit_card()\n",
    "    elif choice == \"2\":\n",
    "        classify_student()\n",
    "    elif choice == \"3\":\n",
    "        generate_isbn10_checksum()\n",
    "    else:\n",
    "        print(\"Invalid choice. Please enter 1, 2, or 3.\")"
   ]
  },
  {
   "cell_type": "code",
   "execution_count": null,
   "id": "a15f26a9-d926-46fe-be44-81f58ba35b08",
   "metadata": {},
   "outputs": [],
   "source": []
  }
 ],
 "metadata": {
  "kernelspec": {
   "display_name": "Python 3 (ipykernel)",
   "language": "python",
   "name": "python3"
  },
  "language_info": {
   "codemirror_mode": {
    "name": "ipython",
    "version": 3
   },
   "file_extension": ".py",
   "mimetype": "text/x-python",
   "name": "python",
   "nbconvert_exporter": "python",
   "pygments_lexer": "ipython3",
   "version": "3.13.2"
  }
 },
 "nbformat": 4,
 "nbformat_minor": 5
}
